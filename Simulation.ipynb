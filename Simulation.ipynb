{
  "cells": [
    {
      "cell_type": "code",
      "execution_count": null,
      "id": "f556830f-ba6b-4881-b547-3165ee768405",
      "metadata": {
        "id": "f556830f-ba6b-4881-b547-3165ee768405"
      },
      "outputs": [],
      "source": [
        "#import libraries\n",
        "import rasterio as rio\n",
        "from rasterio.windows import Window\n",
        "from matplotlib import pyplot as plt\n",
        "import numpy as np\n",
        "from itertools import product\n",
        "import pandas as pd\n",
        "from tqdm import tqdm\n",
        "from pathlib import Path\n",
        "import os\n",
        "from osgeo import gdal"
      ]
    },
    {
      "cell_type": "code",
      "execution_count": null,
      "id": "90634a90-f149-46c4-8d91-6f6becf8a5fc",
      "metadata": {
        "id": "90634a90-f149-46c4-8d91-6f6becf8a5fc"
      },
      "outputs": [],
      "source": [
        "#read standard spectra (available in Data folder)\n",
        "birch = pd.read_csv(\"/..location../Data/birch.csv\")\n",
        "black_spruce = pd.read_csv(\"/..location../Data/black_spruce.csv\")\n",
        "trail = pd.read_csv(\"/..location../Data/trail.csv\")"
      ]
    },
    {
      "cell_type": "code",
      "execution_count": null,
      "id": "5666d373-30e0-4ab3-be9e-c0a5de320ee8",
      "metadata": {
        "id": "5666d373-30e0-4ab3-be9e-c0a5de320ee8"
      },
      "outputs": [],
      "source": [
        "birch = birch[\"Mean_birch_Reflectance\"]\n",
        "black_spruce = black_spruce[\"Mean_black_spruce_Reflectance\"]\n",
        "trail = trail[\"Mean_trail_Reflectance\"]\n",
        "\n",
        "print (trail.shape)"
      ]
    },
    {
      "cell_type": "code",
      "execution_count": null,
      "id": "ae8e3cdf-3d00-49b3-9ffb-465f0614e65b",
      "metadata": {
        "id": "ae8e3cdf-3d00-49b3-9ffb-465f0614e65b"
      },
      "outputs": [],
      "source": [
        "srf_mss = pd.read_csv(\"/..location../Data/srf_mss.csv\") #path to the spectral response function (SRF) of Sentinel data\n",
        "\n",
        "srf_mss=srf_mss.drop(srf_mss.columns[0:2], axis=1)\n",
        "srf_mss_transpose=srf_mss.T\n",
        "print (srf_mss.shape)\n",
        "print (srf_mss_transpose.shape)\n",
        "#print (srf_mss)"
      ]
    },
    {
      "cell_type": "code",
      "execution_count": null,
      "id": "41dabd69-8a3e-4626-ad02-ad7eea3cfd6e",
      "metadata": {
        "id": "41dabd69-8a3e-4626-ad02-ad7eea3cfd6e"
      },
      "outputs": [],
      "source": [
        "#reshape standard spectra\n",
        "birch = birch.values.reshape(2150,1)\n",
        "black_spruce = black_spruce.values.reshape(2150,1)\n",
        "trail = trail.values.reshape(2150,1)"
      ]
    },
    {
      "cell_type": "code",
      "execution_count": null,
      "id": "b919e6b3-0318-4215-93d7-cacb17f34f12",
      "metadata": {
        "id": "b919e6b3-0318-4215-93d7-cacb17f34f12"
      },
      "outputs": [],
      "source": [
        "#matrix multiplication \n",
        "R_birch=np.dot(srf_mss_transpose, birch)\n",
        "R_black_spruce=np.dot(srf_mss_transpose, black_spruce)\n",
        "R_trail=np.dot(srf_mss_transpose, trail)"
      ]
    },
    {
      "cell_type": "code",
      "execution_count": null,
      "id": "f4ce12d1-5fce-4f25-8bbd-ba82deb81ddd",
      "metadata": {
        "id": "f4ce12d1-5fce-4f25-8bbd-ba82deb81ddd"
      },
      "outputs": [],
      "source": [
        "RM = np.concatenate((R_birch, R_black_spruce, R_trail), axis=1)\n",
        "print (RM.shape)\n",
        "print (RM)\n",
        "RM_t=RM.T"
      ]
    },
    {
      "cell_type": "code",
      "execution_count": null,
      "id": "d0c2b7cb-f7c1-4f12-a0fc-88b3997b7b99",
      "metadata": {
        "id": "d0c2b7cb-f7c1-4f12-a0fc-88b3997b7b99"
      },
      "outputs": [],
      "source": [
        "#part second hyperspectral simulation\n",
        "srf_hss = pd.read_csv(\"/..location../Data/AVIRIS_SRF.csv\",sep=',') #path to the spectral response function (SRF) of AVIRIS-NG data\n",
        "srf_hss=srf_hss.drop(srf_hss.columns[0:2], axis=1)\n",
        "srf_hss_transpose=srf_hss.T\n",
        "print (srf_hss.shape)\n",
        "print (srf_hss_transpose.shape)"
      ]
    },
    {
      "cell_type": "code",
      "execution_count": null,
      "id": "09d06d2e-e583-40bd-8752-9f8c4810582f",
      "metadata": {
        "id": "09d06d2e-e583-40bd-8752-9f8c4810582f"
      },
      "outputs": [],
      "source": [
        "#matrix multiplication \n",
        "Rh_birch=np.dot(srf_hss_transpose, birch)\n",
        "Rh_black_spruce=np.dot(srf_hss_transpose, black_spruce)\n",
        "Rh_trail=np.dot(srf_hss_transpose, trail)\n",
        "\n",
        "RH = np.concatenate((Rh_birch, Rh_black_spruce, Rh_trail), axis=1)\n",
        "\n",
        "print (RM_t.shape)"
      ]
    },
    {
      "cell_type": "code",
      "execution_count": null,
      "id": "f85a8d7c-09ad-421c-a5ce-7496f7dd1925",
      "metadata": {
        "id": "f85a8d7c-09ad-421c-a5ce-7496f7dd1925"
      },
      "outputs": [],
      "source": [
        "#CHANGE path: Path for Sentinel image\n",
        "src_path = Path(\"/path/S2B_T06VXP.tif\")  # Specify input image path\""
      ]
    },
    {
      "cell_type": "code",
      "execution_count": null,
      "id": "340fdeb0-e48f-43cb-b487-19d2f26b925f",
      "metadata": {
        "id": "340fdeb0-e48f-43cb-b487-19d2f26b925f"
      },
      "outputs": [],
      "source": [
        "dst_tag = \"HS\"\n",
        "dst_dir = Path(\"/path/output\") #set output path\n",
        "dst_dir.mkdir(mode=0o755, parents=True, exist_ok=True)\n",
        "tiles_dir = dst_dir / \"Tiles\"\n",
        "tiles_dir.mkdir(mode=0o755, parents=True, exist_ok=True)\n",
        "\n",
        "#Set tile size\n",
        "win_height = 2048  # Change as required\n",
        "win_width = 2048  # Change as required"
      ]
    },
    {
      "cell_type": "code",
      "execution_count": null,
      "id": "6401a483-5aba-4b10-8363-b0ab403b3f12",
      "metadata": {
        "id": "6401a483-5aba-4b10-8363-b0ab403b3f12"
      },
      "outputs": [],
      "source": [
        "with rio.open(src_path, 'r') as src:\n",
        "    meta = src.profile.copy()\n",
        "    img_h = src.height\n",
        "    img_w = src.width\n",
        "    big_win = Window(row_off=0, col_off=0, height=img_h, width=img_w)\n",
        "    r_offsets = list(range(0, src.height, win_height))\n",
        "    c_offsets = list(range(0, src.width, win_width))\n",
        "    r_indexes = list(range(len(r_offsets)))\n",
        "    c_indexes = list(range(len(c_offsets)))\n",
        "    offsets = list(product(r_offsets, c_offsets))\n",
        "    indexes = list(product(r_indexes, c_indexes))\n",
        "    pointers = list(zip(indexes, offsets))\n",
        "    \n",
        "    # update meta for output image as required\n",
        "    meta['count'] = RH.shape[0]\n",
        "    meta['dtype'] = np.float32\n",
        "    meta['nodata'] = np.nan\n",
        "    meta['BIGTIFF'] = True\n",
        "    tiles = list()\n",
        "\n",
        "    for (i, j), (r_off, c_off) in tqdm(pointers):\n",
        "      win = Window(\n",
        "        row_off=r_off, col_off=c_off, height=win_height, width=win_width\n",
        "      ).intersection(big_win)\n",
        "      img = src.read(window=win, boundless=False, masked=True) # This is a 3D array (band x Rowsx Cols)\n",
        "      \n",
        "      # processing \n",
        "      dp = img.filled()\n",
        "      dp = np.moveaxis(dp, -1, 0)\n",
        "      dp = np.dot(RM_t, dp)\n",
        "      dp = np.moveaxis(dp, -1, 0)\n",
        "      dp = np.dot(np.linalg.inv(np.dot(RM_t,RM)), dp)\n",
        "      dp = np.moveaxis(dp, -1, 0)\n",
        "      dp = np.dot(RH, dp)\n",
        "      dp = np.moveaxis(dp, -1, 1)\n",
        "\n",
        "      out = dp.astype(meta['dtype'])\n",
        "      mask = np.any(img.mask, axis=0, keepdims=True)\n",
        "      mask = np.repeat(mask, meta['count'], axis=0)\n",
        "      out[mask] = meta['nodata']\n",
        "\n",
        "      # Write processed array to file\n",
        "      dst_path = tiles_dir / \"{}_{}_{}_{}{}\".format(\n",
        "        src_path.stem, dst_tag, i, j, src_path.suffix\n",
        "      )\n",
        "      meta['height'] = win.height\n",
        "      meta['width'] = win.width\n",
        "      meta['transform'] = src.window_transform(win)\n",
        "      with rio.open(dst_path, 'w', **meta) as dst:\n",
        "        dst.write(out) # Band id needs to be soecified in case of writing a 2D array \n",
        "      tiles.append(str(dst_path.relative_to(dst_dir)))\n",
        "    os.chdir(dst_dir)\n",
        "    vrt_path = dst_dir / '{}_{}.{}'.format(src_path.stem, dst_tag, \"VRT\")\n",
        "    vrt_options = gdal.BuildVRTOptions(resampleAlg='near', addAlpha=False)\n",
        "    ds = gdal.BuildVRT(\n",
        "    str(vrt_path.relative_to(dst_dir)), tiles, options=vrt_options\n",
        "    )\n",
        "    ds.FlushCache()"
      ]
    }
  ],
  "metadata": {
    "environment": {
      "kernel": "python3",
      "name": "common-cpu.m94",
      "type": "gcloud",
      "uri": "gcr.io/deeplearning-platform-release/base-cpu:m94"
    },
    "kernelspec": {
      "display_name": "Python 3",
      "language": "python",
      "name": "python3"
    },
    "language_info": {
      "codemirror_mode": {
        "name": "ipython",
        "version": 3
      },
      "file_extension": ".py",
      "mimetype": "text/x-python",
      "name": "python",
      "nbconvert_exporter": "python",
      "pygments_lexer": "ipython3",
      "version": "3.7.12"
    },
    "colab": {
      "provenance": []
    }
  },
  "nbformat": 4,
  "nbformat_minor": 5
}