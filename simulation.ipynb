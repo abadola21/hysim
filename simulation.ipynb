{
 "cells": [
  {
   "cell_type": "code",
   "execution_count": 2,
   "id": "00c11132-7d4b-42ee-b7e6-70a0fc317770",
   "metadata": {},
   "outputs": [],
   "source": [
    "#conda install -c conda-forge gdal"
   ]
  },
  {
   "cell_type": "code",
   "execution_count": 3,
   "id": "df9bc8a2-19eb-4238-a061-984ed7bc5ac7",
   "metadata": {},
   "outputs": [],
   "source": [
    "#Clear trash everytime before simulating new scene\n",
    "#rm -rf $HOME/.local/share/Trash/files"
   ]
  },
  {
   "cell_type": "code",
   "execution_count": 1,
   "id": "98ca9cb9-9e12-46aa-8ff1-3392feff4dc8",
   "metadata": {},
   "outputs": [],
   "source": [
    "import rasterio as rio\n",
    "from rasterio.windows import Window\n",
    "from matplotlib import pyplot as plt\n",
    "import numpy as np\n",
    "from itertools import product\n",
    "import pandas as pd\n",
    "from tqdm import tqdm\n",
    "from pathlib import Path\n",
    "import os\n",
    "from osgeo import gdal\n",
    "from google.cloud import storage"
   ]
  },
  {
   "cell_type": "code",
   "execution_count": 2,
   "id": "4fd07d6e-611b-4eff-98ea-a14cb1274dbc",
   "metadata": {},
   "outputs": [],
   "source": [
    "#read standard spectra\n",
    "birch = pd.read_csv(\"gs://hysim/CSV_spectra_srf/birch.csv\")\n",
    "black_spruce = pd.read_csv(\"gs://hysim/CSV_spectra_srf/black_spruce.csv\")\n",
    "trail = pd.read_csv(\"gs://hysim/CSV_spectra_srf/trail.csv\")"
   ]
  },
  {
   "cell_type": "code",
   "execution_count": 3,
   "id": "0c8f02ae-4c5c-4170-b68b-7a43d587b671",
   "metadata": {},
   "outputs": [
    {
     "name": "stdout",
     "output_type": "stream",
     "text": [
      "(2150,)\n"
     ]
    }
   ],
   "source": [
    "birch = birch[\"Mean_birch_Reflectance\"]\n",
    "black_spruce = black_spruce[\"Mean_black_spruce_Reflectance\"]\n",
    "trail = trail[\"Mean_trail_Reflectance\"]\n",
    "\n",
    "print (trail.shape)"
   ]
  },
  {
   "cell_type": "code",
   "execution_count": 4,
   "id": "2ced413e-bda5-43a9-83f8-18112834a080",
   "metadata": {},
   "outputs": [
    {
     "name": "stdout",
     "output_type": "stream",
     "text": [
      "(2150, 10)\n",
      "(10, 2150)\n"
     ]
    }
   ],
   "source": [
    "srf_mss = pd.read_csv(\"gs://hysim/CSV_spectra_srf/srf_mss.csv\")\n",
    "\n",
    "srf_mss=srf_mss.drop(srf_mss.columns[0:2], axis=1)\n",
    "srf_mss_transpose=srf_mss.T\n",
    "print (srf_mss.shape)\n",
    "print (srf_mss_transpose.shape)\n",
    "#print (srf_mss)"
   ]
  },
  {
   "cell_type": "code",
   "execution_count": 5,
   "id": "476aa34f-1a11-4ca8-bd75-8e42ed8e23c4",
   "metadata": {},
   "outputs": [
    {
     "name": "stdout",
     "output_type": "stream",
     "text": [
      "(10, 3)\n",
      "[[ 271.43572918  276.05403922  641.73142581]\n",
      " [ 416.66909055  284.71903591  460.58216114]\n",
      " [ 137.43311212  157.08899757  485.38986254]\n",
      " [ 227.29035927  159.49784909  241.32303001]\n",
      " [ 833.09336933  397.08715302  241.40177744]\n",
      " [1376.36133012  640.58713463  312.01643138]\n",
      " [6806.52191456 3258.29623104 1474.76493376]\n",
      " [1667.96711533  812.32917947  350.98433605]\n",
      " [4035.30546788 1473.23975678 1834.32430529]\n",
      " [3759.3070371  1265.7171196  2823.0644978 ]]\n",
      "(2150, 425)\n",
      "(425, 2150)\n",
      "(3, 10)\n"
     ]
    }
   ],
   "source": [
    "#resample standard spectra\n",
    "\n",
    "birch = birch.values.reshape(2150,1)\n",
    "black_spruce = black_spruce.values.reshape(2150,1)\n",
    "trail = trail.values.reshape(2150,1)\n",
    "\n",
    "\n",
    "#matrix multiplication \n",
    "R_birch=np.dot(srf_mss_transpose, birch)\n",
    "R_black_spruce=np.dot(srf_mss_transpose, black_spruce)\n",
    "R_trail=np.dot(srf_mss_transpose, trail)\n",
    "\n",
    "\n",
    "RM = np.concatenate((R_birch, R_black_spruce, R_trail), axis=1)\n",
    "\n",
    "print (RM.shape)\n",
    "\n",
    "print (RM)\n",
    "\n",
    "RM_t=RM.T\n",
    "#==================================\n",
    "#part second hyperspectral simulation\n",
    "srf_hss = pd.read_csv(\"gs://hysim/CSV_spectra_srf/AVIRIS_SRF.csv\",sep=',')\n",
    "srf_hss=srf_hss.drop(srf_hss.columns[0:2], axis=1)\n",
    "srf_hss_transpose=srf_hss.T\n",
    "print (srf_hss.shape)\n",
    "print (srf_hss_transpose.shape)\n",
    "\n",
    "#matrix multiplication \n",
    "\n",
    "Rh_birch=np.dot(srf_hss_transpose, birch)\n",
    "Rh_black_spruce=np.dot(srf_hss_transpose, black_spruce)\n",
    "Rh_trail=np.dot(srf_hss_transpose, trail)\n",
    "\n",
    "RH = np.concatenate((Rh_birch, Rh_black_spruce, Rh_trail), axis=1)\n",
    "\n",
    "print (RM_t.shape)"
   ]
  },
  {
   "cell_type": "code",
   "execution_count": 6,
   "id": "343a3e2c-4bdb-4761-8119-129c64f12ee5",
   "metadata": {},
   "outputs": [],
   "source": [
    "#!gsutil cp gs://testbucket_111221/S2BL2_T06WWS.tif /home/jupyter/input/ "
   ]
  },
  {
   "cell_type": "code",
   "execution_count": null,
   "id": "1160a165-8c2d-4467-82e9-e48410301657",
   "metadata": {},
   "outputs": [],
   "source": []
  },
  {
   "cell_type": "code",
   "execution_count": 7,
   "id": "3affb9d0-451d-4875-a6c1-8ed3e3c3862e",
   "metadata": {},
   "outputs": [],
   "source": [
    "#change path: Path for Sentinel image\n",
    "src_path = Path(\"/home/jupyter/input/S2AL2_T06WVS.tif\")  # Specify input image path\"\n",
    "#===========================\n",
    "\n",
    "dst_tag = \"HS\"\n",
    "dst_dir = Path(\"/home/jupyter/output\")\n",
    "dst_dir.mkdir(mode=0o755, parents=True, exist_ok=True)\n",
    "tiles_dir = dst_dir / \"Tiles\"\n",
    "tiles_dir.mkdir(mode=0o755, parents=True, exist_ok=True)\n",
    "win_height = 2048  # Change as required 2048\n",
    "win_width = 2048  # Change as required"
   ]
  },
  {
   "cell_type": "code",
   "execution_count": null,
   "id": "181d0e53-b792-4cfc-9377-32eb8d6e7446",
   "metadata": {},
   "outputs": [],
   "source": []
  },
  {
   "cell_type": "code",
   "execution_count": 8,
   "id": "e89caf1b-992a-4659-bc99-6009e6fa2a7a",
   "metadata": {},
   "outputs": [
    {
     "name": "stderr",
     "output_type": "stream",
     "text": [
      "100%|██████████| 36/36 [2:04:05<00:00, 206.81s/it]  \n"
     ]
    }
   ],
   "source": [
    "with rio.open(src_path, 'r') as src:\n",
    "    meta = src.profile.copy()\n",
    "    img_h = src.height\n",
    "    img_w = src.width\n",
    "    big_win = Window(row_off=0, col_off=0, height=img_h, width=img_w)\n",
    "    r_offsets = list(range(0, src.height, win_height))\n",
    "    c_offsets = list(range(0, src.width, win_width))\n",
    "    r_indexes = list(range(len(r_offsets)))\n",
    "    c_indexes = list(range(len(c_offsets)))\n",
    "    offsets = list(product(r_offsets, c_offsets))\n",
    "    indexes = list(product(r_indexes, c_indexes))\n",
    "    pointers = list(zip(indexes, offsets))\n",
    "    \n",
    "    # update meta for output image as required\n",
    "    meta['count'] = RH.shape[0]\n",
    "    meta['dtype'] = np.float32\n",
    "    meta['nodata'] = np.nan\n",
    "    meta['BIGTIFF'] = True\n",
    "    # meta['compress'] = 'zstd'\n",
    "    # meta['predictor'] = 3\n",
    "    tiles = list()\n",
    "\n",
    "    for (i, j), (r_off, c_off) in tqdm(pointers):\n",
    "      win = Window(\n",
    "        row_off=r_off, col_off=c_off, height=win_height, width=win_width\n",
    "      ).intersection(big_win)\n",
    "      img = src.read(window=win, boundless=False, masked=True) # This is a 3D array (band x Rowsx Cols)\n",
    "      \n",
    "      # processing \n",
    "      dp = img.filled()\n",
    "      dp = np.moveaxis(dp, -1, 0)\n",
    "      dp = np.dot(RM_t, dp)\n",
    "      dp = np.moveaxis(dp, -1, 0)\n",
    "      dp = np.dot(np.linalg.inv(np.dot(RM_t,RM)), dp)\n",
    "      dp = np.moveaxis(dp, -1, 0)\n",
    "      dp = np.dot(RH, dp)\n",
    "      dp = np.moveaxis(dp, -1, 1)\n",
    "\n",
    "      out = dp.astype(meta['dtype'])\n",
    "      mask = np.any(img.mask, axis=0, keepdims=True)\n",
    "      mask = np.repeat(mask, meta['count'], axis=0)\n",
    "      out[mask] = meta['nodata']\n",
    "\n",
    "      # Write processed array to file\n",
    "      dst_path = tiles_dir / \"{}_{}_{}_{}{}\".format(\n",
    "        src_path.stem, dst_tag, i, j, src_path.suffix\n",
    "      )\n",
    "      meta['height'] = win.height\n",
    "      meta['width'] = win.width\n",
    "      meta['transform'] = src.window_transform(win)\n",
    "      with rio.open(dst_path, 'w', **meta) as dst:\n",
    "        dst.write(out) # Band id needs to be soecified in case of writing a 2D array \n",
    "      tiles.append(str(dst_path.relative_to(dst_dir)))\n",
    "    os.chdir(dst_dir)\n",
    "    vrt_path = dst_dir / '{}_{}.{}'.format(src_path.stem, dst_tag, \"VRT\")\n",
    "    vrt_options = gdal.BuildVRTOptions(resampleAlg='near', addAlpha=False)\n",
    "    ds = gdal.BuildVRT(\n",
    "    str(vrt_path.relative_to(dst_dir)), tiles, options=vrt_options\n",
    "    )\n",
    "    ds.FlushCache()"
   ]
  },
  {
   "cell_type": "code",
   "execution_count": null,
   "id": "37bc626f-ac8b-4a93-8a9c-9881ab6ace3b",
   "metadata": {},
   "outputs": [],
   "source": []
  }
 ],
 "metadata": {
  "environment": {
   "kernel": "python3",
   "name": "common-cpu.m84",
   "type": "gcloud",
   "uri": "gcr.io/deeplearning-platform-release/base-cpu:m84"
  },
  "kernelspec": {
   "display_name": "Python 3",
   "language": "python",
   "name": "python3"
  },
  "language_info": {
   "codemirror_mode": {
    "name": "ipython",
    "version": 3
   },
   "file_extension": ".py",
   "mimetype": "text/x-python",
   "name": "python",
   "nbconvert_exporter": "python",
   "pygments_lexer": "ipython3",
   "version": "3.7.12"
  },
  "toc-autonumbering": true,
  "toc-showmarkdowntxt": false
 },
 "nbformat": 4,
 "nbformat_minor": 5
}
