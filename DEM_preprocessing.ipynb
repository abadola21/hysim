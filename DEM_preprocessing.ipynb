{
  "cells": [
    {
      "cell_type": "code",
      "execution_count": null,
      "id": "0493b10f-4246-4ef1-94a1-048e79b0b366",
      "metadata": {
        "tags": [],
        "id": "0493b10f-4246-4ef1-94a1-048e79b0b366"
      },
      "outputs": [],
      "source": [
        "#Install Packages\n",
        "!pip install rasterio\n",
        "!pip install numpy\n",
        "!pip install tqdm\n",
        "!pip install shapely"
      ]
    },
    {
      "cell_type": "code",
      "execution_count": null,
      "id": "b35afbf1-1636-48a0-bd56-91f73af594a9",
      "metadata": {
        "id": "b35afbf1-1636-48a0-bd56-91f73af594a9"
      },
      "outputs": [],
      "source": [
        "#import libraries\n",
        "from osgeo import gdal\n",
        "import numpy as np\n",
        "import tempfile # for generating temporary file such as slope and aspect \n",
        "import rasterio as rio\n",
        "from pathlib import Path # to set file path (likely from rasterio)\n",
        "import rasterio.mask as rio_mask\n",
        "from shapely.geometry import box \n",
        "from rasterio.vrt import WarpedVRT"
      ]
    },
    {
      "cell_type": "code",
      "execution_count": null,
      "id": "102e02b7-8b6c-413b-9c19-09b3550bf709",
      "metadata": {
        "id": "102e02b7-8b6c-413b-9c19-09b3550bf709"
      },
      "outputs": [],
      "source": [
        "# CHANGE path for Sentinel image and DEM \n",
        "dem_path = Path(\"/Path/T06VXP_DEM_UTM6.tif\") # DEM path\n",
        "src_path = Path(\"/Path/S2B_T06VXP.tif\") #Sentinel image path\n"
      ]
    },
    {
      "cell_type": "code",
      "execution_count": null,
      "id": "95859973-c603-4553-b890-087c499923e5",
      "metadata": {
        "id": "95859973-c603-4553-b890-087c499923e5"
      },
      "outputs": [],
      "source": [
        "#Path to save output file\n",
        "dst_path = \"/Output path/DEMlayer.tif\""
      ]
    },
    {
      "cell_type": "code",
      "execution_count": null,
      "id": "b1f292ea-ad30-4522-90d6-eda55eb5dc5b",
      "metadata": {
        "id": "b1f292ea-ad30-4522-90d6-eda55eb5dc5b"
      },
      "outputs": [],
      "source": [
        "#Clip and reproject DEM and calculate slope and aspect. Output image will have three bands (DEM, slope, and aspect) \n",
        "with rio.open(src_path, 'r') as img, rio.open(dem_path, 'r') as dem:\n",
        "    with WarpedVRT(dem, crs=img.crs) as dem_vrt:\n",
        "        meta = dem_vrt.meta.copy() # saving the meta-data of dem in variable meta\n",
        "        bbox = box(*img.bounds)\n",
        "        dst_img, dst_transform = rio_mask.mask(\n",
        "          dataset=dem_vrt,\n",
        "          shapes=(bbox,),\n",
        "          invert=False,\n",
        "          all_touched=False,\n",
        "          crop=True,\n",
        "          filled=True\n",
        "        )\n",
        "        meta['driver'] = 'GTiff'\n",
        "        meta['count'], meta['height'], meta['width'] = dst_img.shape\n",
        "        meta['transform'] = dst_transform\n",
        "        _, dem_file = tempfile.mkstemp(text=False)\n",
        "        _, slope_file = tempfile.mkstemp(text=False)\n",
        "        _, aspect_file = tempfile.mkstemp(text=False)\n",
        "\n",
        "        with rio.open(dem_file, 'w', **meta) as dst:\n",
        "          dst.write(dst_img)\n",
        "        ds = gdal.DEMProcessing(slope_file, dem_file, 'slope')\n",
        "        ds = None\n",
        "        ds = gdal.DEMProcessing(aspect_file, dem_file, 'aspect')\n",
        "        ds = None\n",
        "        with rio.open(dem_file, 'r') as dem, rio.open(slope_file, 'r') as slope, rio.open(aspect_file, 'r') as aspect:\n",
        "          arr = np.concatenate([dem.read(), slope.read(), aspect.read()], axis=0)\n",
        "        Path(dem_file).unlink()\n",
        "        Path(slope_file).unlink()\n",
        "        Path(aspect_file).unlink()\n",
        "        meta['count'] = 3\n",
        "        with rio.open(dst_path, 'w', **meta) as dst:\n",
        "          dst.write(arr) "
      ]
    }
  ],
  "metadata": {
    "environment": {
      "kernel": "python3",
      "name": "common-cpu.m94",
      "type": "gcloud",
      "uri": "gcr.io/deeplearning-platform-release/base-cpu:m94"
    },
    "kernelspec": {
      "display_name": "Python 3",
      "language": "python",
      "name": "python3"
    },
    "language_info": {
      "codemirror_mode": {
        "name": "ipython",
        "version": 3
      },
      "file_extension": ".py",
      "mimetype": "text/x-python",
      "name": "python",
      "nbconvert_exporter": "python",
      "pygments_lexer": "ipython3",
      "version": "3.7.12"
    },
    "colab": {
      "provenance": []
    }
  },
  "nbformat": 4,
  "nbformat_minor": 5
}