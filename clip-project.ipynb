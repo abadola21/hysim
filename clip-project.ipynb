{
 "cells": [
  {
   "cell_type": "code",
   "execution_count": 1,
   "id": "9a537286-9bb8-493b-8ec2-0a5f82b0cec4",
   "metadata": {},
   "outputs": [
    {
     "name": "stdout",
     "output_type": "stream",
     "text": [
      "Requirement already satisfied: rasterio in /opt/conda/lib/python3.7/site-packages (1.2.10)\n",
      "Requirement already satisfied: certifi in /opt/conda/lib/python3.7/site-packages (from rasterio) (2021.10.8)\n",
      "Requirement already satisfied: click>=4.0 in /opt/conda/lib/python3.7/site-packages (from rasterio) (8.0.3)\n",
      "Requirement already satisfied: setuptools in /opt/conda/lib/python3.7/site-packages (from rasterio) (58.5.2)\n",
      "Requirement already satisfied: affine in /opt/conda/lib/python3.7/site-packages (from rasterio) (2.3.0)\n",
      "Requirement already satisfied: cligj>=0.5 in /opt/conda/lib/python3.7/site-packages (from rasterio) (0.7.2)\n",
      "Requirement already satisfied: click-plugins in /opt/conda/lib/python3.7/site-packages (from rasterio) (1.1.1)\n",
      "Requirement already satisfied: snuggs>=1.4.1 in /opt/conda/lib/python3.7/site-packages (from rasterio) (1.4.7)\n",
      "Requirement already satisfied: numpy in /opt/conda/lib/python3.7/site-packages (from rasterio) (1.19.5)\n",
      "Requirement already satisfied: attrs in /opt/conda/lib/python3.7/site-packages (from rasterio) (21.2.0)\n",
      "Requirement already satisfied: importlib-metadata in /opt/conda/lib/python3.7/site-packages (from click>=4.0->rasterio) (4.8.1)\n",
      "Requirement already satisfied: pyparsing>=2.1.6 in /opt/conda/lib/python3.7/site-packages (from snuggs>=1.4.1->rasterio) (3.0.4)\n",
      "Requirement already satisfied: typing-extensions>=3.6.4 in /opt/conda/lib/python3.7/site-packages (from importlib-metadata->click>=4.0->rasterio) (3.10.0.2)\n",
      "Requirement already satisfied: zipp>=0.5 in /opt/conda/lib/python3.7/site-packages (from importlib-metadata->click>=4.0->rasterio) (3.6.0)\n",
      "Requirement already satisfied: numpy in /opt/conda/lib/python3.7/site-packages (1.19.5)\n",
      "Requirement already satisfied: tqdm in /opt/conda/lib/python3.7/site-packages (4.62.3)\n",
      "Requirement already satisfied: shapely in /opt/conda/lib/python3.7/site-packages (1.8.0)\n"
     ]
    }
   ],
   "source": [
    "!pip install rasterio\n",
    "!pip install numpy\n",
    "!pip install tqdm\n",
    "!pip install shapely"
   ]
  },
  {
   "cell_type": "code",
   "execution_count": 2,
   "id": "a2e25cc3-42a4-4392-b107-cd9787fc9ddb",
   "metadata": {},
   "outputs": [
    {
     "name": "stdout",
     "output_type": "stream",
     "text": [
      "Collecting package metadata (current_repodata.json): done\n",
      "Solving environment: done\n",
      "\n",
      "# All requested packages already installed.\n",
      "\n",
      "\n",
      "Note: you may need to restart the kernel to use updated packages.\n"
     ]
    }
   ],
   "source": [
    "conda install -c conda-forge gdal"
   ]
  },
  {
   "cell_type": "code",
   "execution_count": 36,
   "id": "516384c7-9c5c-4bd2-9626-5a49710be10e",
   "metadata": {},
   "outputs": [
    {
     "name": "stdout",
     "output_type": "stream",
     "text": [
      "Copying gs://hysim/S2B_T06WVT/input/DEMlayer.tif...\n",
      "Copying gs://hysim/S2B_T06WVT/input/S2B_T06WVT.tif...                           \n",
      "==> NOTE: You are downloading one or more large file(s), which would            \n",
      "run significantly faster if you enabled sliced object downloads. This\n",
      "feature is enabled by default but requires that compiled crcmod be\n",
      "installed (see \"gsutil help crcmod\").\n",
      "\n",
      "Copying gs://hysim/S2B_T06WVT/input/T06WVT_DEM_UTM6.tif...                      \n",
      "/ [3 files][  4.6 GiB/  4.6 GiB]   83.3 MiB/s                                   \n",
      "Operation completed over 3 objects/4.6 GiB.                                      \n"
     ]
    }
   ],
   "source": [
    "!gsutil cp -r gs://hysim/S2B_T06WVT/input /home/jupyter/"
   ]
  },
  {
   "cell_type": "code",
   "execution_count": 4,
   "id": "6be17579-8c99-4bbc-8893-ca5e9091a2d4",
   "metadata": {},
   "outputs": [
    {
     "name": "stdout",
     "output_type": "stream",
     "text": [
      "Copying gs://hysim/S2A_T06WVS/input/S2AL2_T06WVS.tif...\n",
      "==> NOTE: You are downloading one or more large file(s), which would            \n",
      "run significantly faster if you enabled sliced object downloads. This\n",
      "feature is enabled by default but requires that compiled crcmod be\n",
      "installed (see \"gsutil help crcmod\").\n",
      "\n",
      "| [1 files][  4.5 GiB/  4.5 GiB]      0.0 B/s                                   \n",
      "Operation completed over 1 objects/4.5 GiB.                                      \n"
     ]
    }
   ],
   "source": [
    "!gsutil cp gs://hysim/S2A_T06WVS/input/S2AL2_T06WVS.tif /home/jupyter/input/ "
   ]
  },
  {
   "cell_type": "code",
   "execution_count": 5,
   "id": "2b13cbb2-db93-4d8e-b840-c7b853ed066f",
   "metadata": {},
   "outputs": [],
   "source": [
    "from osgeo import gdal\n",
    "import numpy as np\n",
    "import tempfile\n",
    "import rasterio as rio\n",
    "from pathlib import Path\n",
    "import rasterio.mask as rio_mask\n",
    "from shapely.geometry import box\n",
    "from rasterio.vrt import WarpedVRT\n",
    "from google.cloud import storage"
   ]
  },
  {
   "cell_type": "code",
   "execution_count": 6,
   "id": "5d2308d5-4060-4385-99f5-c12c73c1a0dd",
   "metadata": {},
   "outputs": [
    {
     "name": "stdout",
     "output_type": "stream",
     "text": [
      "alaskaepscor_simulation\n",
      "hysim\n",
      "jupyter\n",
      "/home/jupyter\n"
     ]
    }
   ],
   "source": [
    "from google.cloud import storage\n",
    "\n",
    "storage_client = storage.Client()\n",
    "buckets = storage_client.list_buckets()\n",
    "\n",
    "for bucket in buckets:\n",
    "    print(bucket.name)\n",
    "    \n",
    "!whoami\n",
    "!pwd\n"
   ]
  },
  {
   "cell_type": "code",
   "execution_count": 7,
   "id": "f34f1288-6a86-432d-b7c8-5dae5ca31323",
   "metadata": {},
   "outputs": [],
   "source": [
    "dem_path = Path(\"/home/jupyter/input/DEMlayer_WVS.tif\")\n",
    "src_path = Path(\"/home/jupyter/input/S2AL2_T06WVS.tif\")\n",
    "#dst_path = \"gs://testbucket_111221/output/DEMlayer_B.tif\""
   ]
  },
  {
   "cell_type": "code",
   "execution_count": null,
   "id": "36f74d03-e0b5-4caa-ac20-25ec26ac4569",
   "metadata": {},
   "outputs": [],
   "source": []
  },
  {
   "cell_type": "code",
   "execution_count": 8,
   "id": "370e7921-b1c2-496a-a390-8b334289a6c6",
   "metadata": {},
   "outputs": [],
   "source": [
    "dst_path = \"/home/jupyter/input/DEMlayer.tif\""
   ]
  },
  {
   "cell_type": "code",
   "execution_count": 9,
   "id": "d52ec083-f212-4ce8-ae99-60bed8fae288",
   "metadata": {},
   "outputs": [
    {
     "data": {
      "text/plain": [
       "\"\\nwith rio.open(src_path, 'r') as img, rio.open(dem_path, 'r') as dem:\\n    with WarpedVRT(dem, crs=img.crs) as dem_vrt:\\n        meta = dem_vrt.meta.copy()\\n        bbox = box(*img.bounds)\\n        dst_img, dst_transform = rio_mask.mask(\\n          dataset=dem_vrt,\\n          shapes=(bbox,),\\n          invert=False,\\n          all_touched=False,\\n          crop=True,\\n          filled=True\\n        )\\n        meta['driver'] = 'GTiff'\\n        meta['count'], meta['height'], meta['width'] = dst_img.shape\\n        meta['transform'] = dst_transform\\n        with rio.open(dst_path, 'w', **meta) as dst:\\n            dst.write(dst_img)\\n \""
      ]
     },
     "execution_count": 9,
     "metadata": {},
     "output_type": "execute_result"
    }
   ],
   "source": [
    "#without slope and aspect=============\n",
    "\"\"\"\n",
    "with rio.open(src_path, 'r') as img, rio.open(dem_path, 'r') as dem:\n",
    "    with WarpedVRT(dem, crs=img.crs) as dem_vrt:\n",
    "        meta = dem_vrt.meta.copy()\n",
    "        bbox = box(*img.bounds)\n",
    "        dst_img, dst_transform = rio_mask.mask(\n",
    "          dataset=dem_vrt,\n",
    "          shapes=(bbox,),\n",
    "          invert=False,\n",
    "          all_touched=False,\n",
    "          crop=True,\n",
    "          filled=True\n",
    "        )\n",
    "        meta['driver'] = 'GTiff'\n",
    "        meta['count'], meta['height'], meta['width'] = dst_img.shape\n",
    "        meta['transform'] = dst_transform\n",
    "        with rio.open(dst_path, 'w', **meta) as dst:\n",
    "            dst.write(dst_img)\n",
    " \"\"\""
   ]
  },
  {
   "cell_type": "code",
   "execution_count": 10,
   "id": "a3e44e0d-2c90-4c72-80e2-69bc6dd6d1ed",
   "metadata": {},
   "outputs": [],
   "source": [
    "#NEw======\n",
    "with rio.open(src_path, 'r') as img, rio.open(dem_path, 'r') as dem:\n",
    "    with WarpedVRT(dem, crs=img.crs) as dem_vrt:\n",
    "        meta = dem_vrt.meta.copy()\n",
    "        bbox = box(*img.bounds)\n",
    "        dst_img, dst_transform = rio_mask.mask(\n",
    "          dataset=dem_vrt,\n",
    "          shapes=(bbox,),\n",
    "          invert=False,\n",
    "          all_touched=False,\n",
    "          crop=True,\n",
    "          filled=True\n",
    "        )\n",
    "        meta['driver'] = 'GTiff'\n",
    "        meta['count'], meta['height'], meta['width'] = dst_img.shape\n",
    "        meta['transform'] = dst_transform\n",
    "        _, dem_file = tempfile.mkstemp(text=False)\n",
    "        _, slope_file = tempfile.mkstemp(text=False)\n",
    "        _, aspect_file = tempfile.mkstemp(text=False)\n",
    "\n",
    "        with rio.open(dem_file, 'w', **meta) as dst:\n",
    "          dst.write(dst_img)\n",
    "        ds = gdal.DEMProcessing(slope_file, dem_file, 'slope')\n",
    "        ds = None\n",
    "        ds = gdal.DEMProcessing(aspect_file, dem_file, 'aspect')\n",
    "        ds = None\n",
    "        with rio.open(dem_file, 'r') as dem, rio.open(slope_file, 'r') as slope, rio.open(aspect_file, 'r') as aspect:\n",
    "          arr = np.concatenate([dem.read(), slope.read(), aspect.read()], axis=0)\n",
    "        Path(dem_file).unlink()\n",
    "        Path(slope_file).unlink()\n",
    "        Path(aspect_file).unlink()\n",
    "        meta['count'] = 3\n",
    "        with rio.open(dst_path, 'w', **meta) as dst:\n",
    "          dst.write(arr) "
   ]
  },
  {
   "cell_type": "code",
   "execution_count": 21,
   "id": "34048fe2-e390-42e4-877b-a43a30c82eb0",
   "metadata": {},
   "outputs": [
    {
     "name": "stdout",
     "output_type": "stream",
     "text": [
      "Copying file:///home/jupyter/output/DEMlayer_B.tif [Content-Type=image/tiff]...\n",
      "==> NOTE: You are uploading one or more large file(s), which would run          \n",
      "significantly faster if you enable parallel composite uploads. This\n",
      "feature can be enabled by editing the\n",
      "\"parallel_composite_upload_threshold\" value in your .boto\n",
      "configuration file. However, note that if you do this large files will\n",
      "be uploaded as `composite objects\n",
      "<https://cloud.google.com/storage/docs/composite-objects>`_,which\n",
      "means that any user who downloads such objects will need to have a\n",
      "compiled crcmod installed (see \"gsutil help crcmod\"). This is because\n",
      "without a compiled crcmod, computing checksums on composite objects is\n",
      "so slow that gsutil disables downloads of composite objects.\n",
      "\n",
      "- [1 files][271.4 MiB/271.4 MiB]                                                \n",
      "Operation completed over 1 objects/271.4 MiB.                                    \n"
     ]
    }
   ],
   "source": [
    "#!gsutil cp -r /home/jupyter/output/ gs://testbucket_111221"
   ]
  },
  {
   "cell_type": "code",
   "execution_count": 25,
   "id": "08e969b7-a19d-4913-bf30-4a7096dbea94",
   "metadata": {},
   "outputs": [],
   "source": [
    "#!rm -rf /home/jupyter/output/"
   ]
  }
 ],
 "metadata": {
  "environment": {
   "kernel": "python3",
   "name": "common-cpu.m84",
   "type": "gcloud",
   "uri": "gcr.io/deeplearning-platform-release/base-cpu:m84"
  },
  "kernelspec": {
   "display_name": "Python 3",
   "language": "python",
   "name": "python3"
  },
  "language_info": {
   "codemirror_mode": {
    "name": "ipython",
    "version": 3
   },
   "file_extension": ".py",
   "mimetype": "text/x-python",
   "name": "python",
   "nbconvert_exporter": "python",
   "pygments_lexer": "ipython3",
   "version": "3.7.12"
  }
 },
 "nbformat": 4,
 "nbformat_minor": 5
}
