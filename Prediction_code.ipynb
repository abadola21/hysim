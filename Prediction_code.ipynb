{
 "cells": [
  {
   "cell_type": "code",
   "execution_count": 34,
   "id": "0197952b-2390-4dd4-b48c-2a8467e55eda",
   "metadata": {},
   "outputs": [],
   "source": [
    "import rasterio as rio\n",
    "from rasterio.windows import Window\n",
    "from matplotlib import pyplot as plt\n",
    "import numpy as np\n",
    "from itertools import product\n",
    "import pandas as pd\n",
    "from tqdm import tqdm\n",
    "from pathlib import Path\n",
    "import os\n",
    "import json\n",
    "from osgeo import gdal\n",
    "import joblib\n",
    "from rasterio.vrt import WarpedVRT"
   ]
  },
  {
   "cell_type": "code",
   "execution_count": 35,
   "id": "43c80e45-7841-45aa-a692-1ab0e88b11fa",
   "metadata": {},
   "outputs": [],
   "source": [
    "#Clear trash everytime before simulating new scene\n",
    "#rm -rf $HOME/.local/share/Trash/files"
   ]
  },
  {
   "cell_type": "code",
   "execution_count": 36,
   "id": "798c1d46-14aa-47fd-a03b-4cf7b6afd1d9",
   "metadata": {},
   "outputs": [],
   "source": [
    "#!gsutil cp -r gs://testbucket_111221/classification_model /home/jupyter/"
   ]
  },
  {
   "cell_type": "code",
   "execution_count": 37,
   "id": "21b85779-1008-4775-9861-2473e2a44a54",
   "metadata": {},
   "outputs": [],
   "source": [
    "#copy dem\n",
    "#!gsutil cp gs://testbucket_111221/DEMlayer_S2B.tif /home/jupyter/input/"
   ]
  },
  {
   "cell_type": "code",
   "execution_count": 38,
   "id": "9d253721-f92d-4d0b-97a7-45f4a10f5aa8",
   "metadata": {},
   "outputs": [
    {
     "data": {
      "text/plain": [
       "'\\n#Set required paths and parameters\\nmodel_path = Path(\"/home/jupyter/classification_model/RandomForest.joblib\")\\nmeta_path = Path(\"/home/jupyter/classification_model/Meta_Info.json\")\\n\\n#========================\\n#change following paths: these are path for Sentinel image and DEM\\ndem_path = Path(\"/home/jupyter/input/DEMlayer.tif\") #change\\nsrc_path = Path(\"/home/jupyter/output/S2B_T05WPN_HS.VRT\") #change\\n#=======================\\n\\ndst_dir = Path(\"/home/jupyter/prediction\")\\ntiles_dir = dst_dir / \"Tiles\"\\ntiles_dir.mkdir(mode=0o755, parents=True, exist_ok=True)\\ndst_tag = \"PredictedLabel\"\\nndvi_ll = 0.3\\nndvi_ul = 1.0\\nnir_bid = 96\\nred_bid = 56\\ntile_height = 512\\ntile_width = 512\\nresampling_alg = 1\\n'"
      ]
     },
     "execution_count": 38,
     "metadata": {},
     "output_type": "execute_result"
    }
   ],
   "source": [
    "#Set required paths and parameters\n",
    "model_path = Path(\"/home/jupyter/classification_model/RandomForest.joblib\")\n",
    "meta_path = Path(\"/home/jupyter/classification_model/Meta_Info.json\")\n",
    "\n",
    "dem_path = Path(\"/home/jupyter/input/DEMlayer.tif\") #change\n",
    "src_path = Path(\"/home/jupyter/output/S2B_T05WPN_HS.VRT\") #change\n",
    "#=======================\n",
    "\n",
    "dst_dir = Path(\"/home/jupyter/prediction\")\n",
    "tiles_dir = dst_dir / \"Tiles\"\n",
    "tiles_dir.mkdir(mode=0o755, parents=True, exist_ok=True)\n",
    "dst_tag = \"PredictedLabel\"\n",
    "ndvi_ll = 0.3\n",
    "ndvi_ul = 1.0\n",
    "nir_bid = 96\n",
    "red_bid = 56\n",
    "tile_height = 512\n",
    "tile_width = 512\n",
    "resampling_alg = 1"
   ]
  },
  {
   "cell_type": "code",
   "execution_count": 43,
   "id": "3b99d9b1-a55a-45f9-920c-0fdd412dd45f",
   "metadata": {},
   "outputs": [],
   "source": [
    "#Load model\n",
    "clf = joblib.load(model_path)"
   ]
  },
  {
   "cell_type": "code",
   "execution_count": null,
   "id": "902cb4bc-e325-43c0-bcfa-420fc3cd1d29",
   "metadata": {},
   "outputs": [],
   "source": [
    "color_dict = dict()\n",
    "# nomenclature = dict()\n",
    "with open(meta_path, 'r') as fp:\n",
    "  meta_map = json.load(fp)\n",
    "  for k, v in meta_map.items():\n",
    "    r = int(np.round((255 * v['RED']), decimals=0))\n",
    "    g = int(np.round((255 * v['GREEN']), decimals=0))\n",
    "    b = int(np.round((255 * v['BLUE']), decimals=0))\n",
    "    a = int(np.round((255 * v['ALPHA']), decimals=0))\n",
    "    color_dict[int(k)] = (r, g, b, a)\n",
    "    # nomenclature[k] = v['Name']\n",
    "\n",
    "with rio.open(src_path, 'r') as src, rio.open(dem_path, 'r') as dem:\n",
    "  assert src.crs == dem.crs, \"CRS Mismatch!\"\n",
    "  # assert np.allclose(\n",
    "  #   a=np.array(src.bounds), \n",
    "  #   b=np.array(dem.bounds),\n",
    "  #   rtol=0,\n",
    "  #   atol=15.0\n",
    "  # ), \"Overlap error too high!\"\n",
    "  with WarpedVRT(\n",
    "    dem, \n",
    "    height=src.height, \n",
    "    width=src.width,\n",
    "    transform=src.transform,\n",
    "    resampling=resampling_alg,\n",
    "  ) as vrt_dem:\n",
    "    meta = src.meta.copy()\n",
    "    img_h = src.height\n",
    "    img_w = src.width\n",
    "    big_win = Window(row_off=0, col_off=0, height=img_h, width=img_w)\n",
    "    r_offsets = list(range(0, src.height, tile_height))\n",
    "    c_offsets = list(range(0, src.width, tile_width))\n",
    "    r_indexes = list(range(len(r_offsets)))\n",
    "    c_indexes = list(range(len(c_offsets)))\n",
    "    offsets = list(product(r_offsets, c_offsets))\n",
    "    indexes = list(product(r_indexes, c_indexes))\n",
    "    pointers = list(zip(indexes, offsets))\n",
    "    meta['dtype'] = np.uint8\n",
    "    meta['nodata'] = 0\n",
    "    meta['driver'] = 'GTiff'\n",
    "    color_dict[meta[\"nodata\"]] = (0, 0, 0, 0)\n",
    "    tile_list = list()\n",
    "    \n",
    "    for (i, j), (r_off, c_off) in tqdm(pointers):\n",
    "      win = Window(\n",
    "        row_off=r_off, col_off=c_off, height=tile_height, width=tile_width\n",
    "      ).intersection(big_win)\n",
    "      img_arr = src.read(window=win, boundless=False, masked=True)\n",
    "      dem_arr = vrt_dem.read(\n",
    "        window=win,\n",
    "        boundless=False,\n",
    "        masked=True\n",
    "      )\n",
    "\n",
    "      nir = img_arr[nir_bid]\n",
    "      nir_mask = nir == src.nodata\n",
    "      nir = nir.astype(np.float32)\n",
    "      nir[nir_mask] = np.nan\n",
    "      red = img_arr[red_bid]\n",
    "      red_mask = red == src.nodata\n",
    "      red = red.astype(np.float32)\n",
    "      red[red_mask] = np.nan\n",
    "      denominator = nir + red\n",
    "      denominator[denominator==0] = np.nan\n",
    "      nominator = nir - red\n",
    "      ndvi = nominator / denominator\n",
    "      ndvi_mask = np.logical_or(\n",
    "        (ndvi < ndvi_ll),\n",
    "        (ndvi > ndvi_ul)\n",
    "      )\n",
    "      dmask = np.any(dem_arr.mask, axis=0)\n",
    "      imask = np.any(img_arr.mask, axis=0)\n",
    "      mask = np.logical_or(dmask, imask)\n",
    "      mask = np.logical_or(mask, ndvi_mask)\n",
    "      dem_arr = dem_arr.astype(img_arr.dtype)\n",
    "      dem_arr.fill_value = img_arr.fill_value\n",
    "      dat_arr = np.concatenate((img_arr, dem_arr), axis=0)\n",
    "      dat_arr.mask = np.tile(mask, (dat_arr.shape[0], 1, 1))\n",
    "      valid = np.logical_not(mask)\n",
    "      data = np.moveaxis(dat_arr[:, valid], 0, -1)\n",
    "      pred = clf.predict(data)\n",
    "      pred_img = np.full_like(\n",
    "        valid, fill_value=meta['nodata'], dtype=meta['dtype']\n",
    "      )\n",
    "      pred_img[valid] = pred.astype(meta['dtype'])\n",
    "      pred_img = np.stack((pred_img,), axis=0)\n",
    "      meta['count'], meta['height'], meta['width'] = pred_img.shape\n",
    "      meta['transform'] = src.window_transform(win)\n",
    "      dst_path = tiles_dir / \"{}_{}_{}.{}\".format(\n",
    "        dst_tag, i, j, 'tiff'\n",
    "      )\n",
    "      with rio.open(dst_path, 'w', **meta) as dst:\n",
    "        dst.write(pred_img)\n",
    "        dst.write_colormap(\n",
    "          1, color_dict\n",
    "        )\n",
    "      tile_list.append(str(dst_path.relative_to(dst_dir)))\n",
    "  os.chdir(dst_dir)\n",
    "  vrt_path = dst_dir / '{}.{}'.format(dst_tag, \"VRT\")\n",
    "  vrt_options = gdal.BuildVRTOptions(resampleAlg='near', addAlpha=False)\n",
    "  ds = gdal.BuildVRT(\n",
    "    str(vrt_path.relative_to(dst_dir)), tile_list, options=vrt_options\n",
    "  )\n",
    "  ds.FlushCache()"
   ]
  },
  {
   "cell_type": "code",
   "execution_count": null,
   "id": "c0d70a7c-ac83-4f67-a2b3-19a4cd7a5327",
   "metadata": {},
   "outputs": [],
   "source": []
  }
 ],
 "metadata": {
  "environment": {
   "kernel": "python3",
   "name": "common-cpu.m84",
   "type": "gcloud",
   "uri": "gcr.io/deeplearning-platform-release/base-cpu:m84"
  },
  "kernelspec": {
   "display_name": "Python 3",
   "language": "python",
   "name": "python3"
  },
  "language_info": {
   "codemirror_mode": {
    "name": "ipython",
    "version": 3
   },
   "file_extension": ".py",
   "mimetype": "text/x-python",
   "name": "python",
   "nbconvert_exporter": "python",
   "pygments_lexer": "ipython3",
   "version": "3.7.12"
  }
 },
 "nbformat": 4,
 "nbformat_minor": 5
}
